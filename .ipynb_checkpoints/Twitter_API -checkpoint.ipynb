{
 "cells": [
  {
   "cell_type": "code",
   "execution_count": 21,
   "metadata": {},
   "outputs": [],
   "source": [
    "#URL\n",
    "#1. Twitter API - https://developer.twitter.com/apps\n",
    "#2. Access token: 860552192968712192-GUj7zPoOhLNa2SiAbZBjhP3zgR3jI2t\n",
    "#3. Access token secret: PY3Osvw6roExUh22MCs0K8fWHom3834WIctJSET8M7PGC\n",
    "#4. API key: oOOLEPPMTs7vcmqOeXKUEHJG0\n",
    "#5. API secret key: a8OT9BwDfQtwYxCY6zDHydQb21mNXmGUJPCDplQcKJQFpgfYSg"
   ]
  },
  {
   "cell_type": "code",
   "execution_count": 22,
   "metadata": {},
   "outputs": [],
   "source": [
    "# import pandas as pd\n",
    "\n",
    "# # Search tweets\n",
    "# dict_ = {'user': [], 'date': [], 'text': [], 'favorite_count': []}\n",
    "# for status in python_tweets.search(**query)['statuses']:\n",
    "#     dict_['user'].append(status['user']['screen_name'])\n",
    "#     dict_['date'].append(status['created_at'])\n",
    "#     dict_['text'].append(status['text'])\n",
    "#     dict_['favorite_count'].append(status['favorite_count'])\n",
    "\n",
    "# # Structure data in a pandas DataFrame for easier manipulation\n",
    "# df = pd.DataFrame(dict_)\n",
    "# df.sort_values(by='favorite_count', inplace=True, ascending=False)\n",
    "# df.head(5)\n"
   ]
  },
  {
   "cell_type": "code",
   "execution_count": 23,
   "metadata": {},
   "outputs": [],
   "source": [
    "from twython import Twython\n",
    "\n",
    "TWITTER_APP_KEY = 'oOOLEPPMTs7vcmqOeXKUEHJG0'  #supply the appropriate value\n",
    "TWITTER_APP_KEY_SECRET = 'a8OT9BwDfQtwYxCY6zDHydQb21mNXmGUJPCDplQcKJQFpgfYSg' \n",
    "TWITTER_ACCESS_TOKEN = '860552192968712192-GUj7zPoOhLNa2SiAbZBjhP3zgR3jI2t'\n",
    "TWITTER_ACCESS_TOKEN_SECRET = 'PY3Osvw6roExUh22MCs0K8fWHom3834WIctJSET8M7PGC'\n"
   ]
  },
  {
   "cell_type": "code",
   "execution_count": 24,
   "metadata": {},
   "outputs": [],
   "source": [
    "t = Twython(app_key=TWITTER_APP_KEY, \n",
    "            app_secret=TWITTER_APP_KEY_SECRET, \n",
    "            oauth_token=TWITTER_ACCESS_TOKEN, \n",
    "            oauth_token_secret=TWITTER_ACCESS_TOKEN_SECRET)\n",
    "\n",
    "search = t.search(q='#sad',count=1)\n",
    "# search"
   ]
  },
  {
   "cell_type": "code",
   "execution_count": 25,
   "metadata": {},
   "outputs": [],
   "source": [
    "tweets = search['statuses']\n",
    "# tweets"
   ]
  },
  {
   "cell_type": "code",
   "execution_count": 26,
   "metadata": {},
   "outputs": [
    {
     "name": "stdout",
     "output_type": "stream",
     "text": [
      "1221238644817702913 \n",
      " RT @FpSidnaaz: This guy is way more mature than the stupid girls supporting #SidNaaz bullshit. \n",
      "Girls are not talking stand for Girls.. #SA…\n"
     ]
    }
   ],
   "source": [
    "for tweet in tweets:\n",
    "  print(tweet['id_str'], '\\n', tweet['text'])"
   ]
  },
  {
   "cell_type": "code",
   "execution_count": null,
   "metadata": {},
   "outputs": [],
   "source": []
  }
 ],
 "metadata": {
  "kernelspec": {
   "display_name": "Python 3",
   "language": "python",
   "name": "python3"
  },
  "language_info": {
   "codemirror_mode": {
    "name": "ipython",
    "version": 3
   },
   "file_extension": ".py",
   "mimetype": "text/x-python",
   "name": "python",
   "nbconvert_exporter": "python",
   "pygments_lexer": "ipython3",
   "version": "3.5.5"
  }
 },
 "nbformat": 4,
 "nbformat_minor": 2
}
